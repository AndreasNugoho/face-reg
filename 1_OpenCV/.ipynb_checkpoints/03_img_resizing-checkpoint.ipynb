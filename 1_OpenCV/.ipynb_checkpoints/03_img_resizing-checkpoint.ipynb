{
 "cells": [
  {
   "cell_type": "markdown",
   "id": "30a02968-2bdc-4859-848e-68bf85eb600e",
   "metadata": {},
   "source": [
    "# Rezise"
   ]
  },
  {
   "cell_type": "code",
   "execution_count": null,
   "id": "b0db1f38-62db-435e-997b-7f106fe5c18a",
   "metadata": {},
   "outputs": [],
   "source": []
  }
 ],
 "metadata": {
  "kernelspec": {
   "display_name": "Python 3 (ipykernel)",
   "language": "python",
   "name": "python3"
  },
  "language_info": {
   "codemirror_mode": {
    "name": "ipython",
    "version": 3
   },
   "file_extension": ".py",
   "mimetype": "text/x-python",
   "name": "python",
   "nbconvert_exporter": "python",
   "pygments_lexer": "ipython3",
   "version": "3.12.2"
  }
 },
 "nbformat": 4,
 "nbformat_minor": 5
}
