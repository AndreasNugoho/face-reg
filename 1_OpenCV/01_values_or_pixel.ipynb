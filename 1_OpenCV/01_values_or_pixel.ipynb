{
 "cells": [
  {
   "cell_type": "code",
   "execution_count": 9,
   "id": "0c5c45aa-6252-4695-81cb-bc3413baf61c",
   "metadata": {},
   "outputs": [],
   "source": [
    "import numpy as np # numeric punya python\n",
    "import matplotlib.pyplot as plt # library visualisasi "
   ]
  },
  {
   "cell_type": "code",
   "execution_count": 10,
   "id": "726d7b3d-7050-4a2c-800f-f1f26d565967",
   "metadata": {},
   "outputs": [
    {
     "name": "stdout",
     "output_type": "stream",
     "text": [
      "[  0   1   2   3   4   5   6   7   8   9  10  11  12  13  14  15  16  17\n",
      "  18  19  20  21  22  23  24  25  26  27  28  29  30  31  32  33  34  35\n",
      "  36  37  38  39  40  41  42  43  44  45  46  47  48  49  50  51  52  53\n",
      "  54  55  56  57  58  59  60  61  62  63  64  65  66  67  68  69  70  71\n",
      "  72  73  74  75  76  77  78  79  80  81  82  83  84  85  86  87  88  89\n",
      "  90  91  92  93  94  95  96  97  98  99 100 101 102 103 104 105 106 107\n",
      " 108 109 110 111 112 113 114 115 116 117 118 119 120 121 122 123 124 125\n",
      " 126 127 128 129 130 131 132 133 134 135 136 137 138 139 140 141 142 143\n",
      " 144 145 146 147 148 149 150 151 152 153 154 155 156 157 158 159 160 161\n",
      " 162 163 164 165 166 167 168 169 170 171 172 173 174 175 176 177 178 179\n",
      " 180 181 182 183 184 185 186 187 188 189 190 191 192 193 194 195 196 197\n",
      " 198 199 200 201 202 203 204 205 206 207 208 209 210 211 212 213 214 215\n",
      " 216 217 218 219 220 221 222 223 224 225 226 227 228 229 230 231 232 233\n",
      " 234 235 236 237 238 239 240 241 242 243 244 245 246 247 248 249 250 251\n",
      " 252 253 254 255]\n"
     ]
    }
   ],
   "source": [
    "# array di range (0,255) . 16 x 16\n",
    "arr = np.arange(0,256,1)\n",
    "print(arr)"
   ]
  },
  {
   "cell_type": "code",
   "execution_count": 11,
   "id": "9e4bdf14-eaac-4b15-b7f0-56a90bf0a25b",
   "metadata": {},
   "outputs": [
    {
     "name": "stdout",
     "output_type": "stream",
     "text": [
      "[[  0   1   2   3   4   5   6   7   8   9  10  11  12  13  14  15]\n",
      " [ 16  17  18  19  20  21  22  23  24  25  26  27  28  29  30  31]\n",
      " [ 32  33  34  35  36  37  38  39  40  41  42  43  44  45  46  47]\n",
      " [ 48  49  50  51  52  53  54  55  56  57  58  59  60  61  62  63]\n",
      " [ 64  65  66  67  68  69  70  71  72  73  74  75  76  77  78  79]\n",
      " [ 80  81  82  83  84  85  86  87  88  89  90  91  92  93  94  95]\n",
      " [ 96  97  98  99 100 101 102 103 104 105 106 107 108 109 110 111]\n",
      " [112 113 114 115 116 117 118 119 120 121 122 123 124 125 126 127]\n",
      " [128 129 130 131 132 133 134 135 136 137 138 139 140 141 142 143]\n",
      " [144 145 146 147 148 149 150 151 152 153 154 155 156 157 158 159]\n",
      " [160 161 162 163 164 165 166 167 168 169 170 171 172 173 174 175]\n",
      " [176 177 178 179 180 181 182 183 184 185 186 187 188 189 190 191]\n",
      " [192 193 194 195 196 197 198 199 200 201 202 203 204 205 206 207]\n",
      " [208 209 210 211 212 213 214 215 216 217 218 219 220 221 222 223]\n",
      " [224 225 226 227 228 229 230 231 232 233 234 235 236 237 238 239]\n",
      " [240 241 242 243 244 245 246 247 248 249 250 251 252 253 254 255]]\n"
     ]
    }
   ],
   "source": [
    "arr = arr.reshape((16,16))\n",
    "print(arr)"
   ]
  },
  {
   "cell_type": "code",
   "execution_count": 12,
   "id": "742fcf00-493e-4ea6-baf0-906723c684f4",
   "metadata": {},
   "outputs": [],
   "source": [
    "arr_8bit = arr.astype(np.uint8)"
   ]
  },
  {
   "cell_type": "code",
   "execution_count": 13,
   "id": "8526bdd3-c15f-4bc1-b353-ebcb4d7b1f83",
   "metadata": {},
   "outputs": [
    {
     "data": {
      "image/png": "[encoded data removed]",
      "text/plain": [
       "<Figure size 640x480 with 1 Axes>"
      ]
     },
     "metadata": {},
     "output_type": "display_data"
    }
   ],
   "source": [
    "plt.imshow(arr_8bit,cmap='gray')\n",
    "plt.axis('off')\n",
    "plt.show()"
   ]
  },
  {
   "cell_type": "code",
   "execution_count": 14,
   "id": "1e94eb94-ae3a-4b5c-9e3b-f708f74d963e",
   "metadata": {},
   "outputs": [
    {
     "data": {
      "text/plain": [
       "(-0.5, 15.5, 15.5, -0.5)"
      ]
     },
     "execution_count": 14,
     "metadata": {},
     "output_type": "execute_result"
    },
    {
     "data": {
      "image/png": "[encoded data removed]",
      "text/plain": [
       "<Figure size 640x480 with 1 Axes>"
      ]
     },
     "metadata": {},
     "output_type": "display_data"
    }
   ],
   "source": [
    "# random matrix (16 x16)\n",
    "arr1 = np.random.randint(low=0,high=255,size=(16,16),dtype=np.uint8)\n",
    "plt.imshow(arr1,cmap='gray')\n",
    "plt.axis('off')"
   ]
  },
  {
   "cell_type": "code",
   "execution_count": 15,
   "id": "7d94a26b-b218-40f8-bb46-221aa954b80d",
   "metadata": {},
   "outputs": [
    {
     "data": {
      "text/plain": [
       "array([[105,  47, 168, 115, 191, 104, 204,  35,  50, 141,  63,  95,  35,\n",
       "        180, 214,  65],\n",
       "       [ 94, 103, 165, 161, 225, 166,  33, 174, 171, 227, 178,  96,   6,\n",
       "         23,  38, 108],\n",
       "       [237, 132,  19, 110,   1, 128,  59, 229,  83, 179, 148,  45, 121,\n",
       "        187,  51,  51],\n",
       "       [173, 163, 160, 186, 145,  85, 252, 208, 154, 246,  64, 171, 234,\n",
       "         70,  82,  95],\n",
       "       [112,  30, 114,  14,   1, 210,  27, 215,  57,   6, 101,  17,  69,\n",
       "        148,  79, 118],\n",
       "       [254, 218, 115,  26,  35, 190, 210, 108, 117, 222, 242, 128,  42,\n",
       "        191, 208,  46],\n",
       "       [217,  26,  19, 131,  92,  91, 199, 145, 149, 217, 153,  98, 161,\n",
       "         95, 101, 145],\n",
       "       [ 61, 219, 175, 206, 143,  63, 249,  36,  14, 184, 160,  80, 198,\n",
       "        177, 144, 237],\n",
       "       [ 48,  24, 164, 213, 148, 129,  34, 219,  31,  91, 185,   9,  92,\n",
       "        134, 111, 176],\n",
       "       [201, 154,  30, 124,  27, 157, 105, 209, 104, 125, 218,  90, 206,\n",
       "        173,  96, 126],\n",
       "       [237,  66, 115, 228, 158, 107, 213, 147, 213,  27, 241,  35, 221,\n",
       "        187, 104, 130],\n",
       "       [ 71, 134, 142, 200, 182,  31, 131, 211, 174, 250, 227,  14,  71,\n",
       "         68, 181,  98],\n",
       "       [140, 150, 146, 236,  77, 229, 141,  99, 107, 142, 103, 204,  87,\n",
       "        159, 140, 161],\n",
       "       [199,  12,  85, 164, 246, 126, 211,   0, 152, 111,  23, 148,  28,\n",
       "         44, 198, 129],\n",
       "       [ 26, 253, 120, 176, 218, 126,  89,  42, 117, 204,  27, 124, 229,\n",
       "        234, 213, 164],\n",
       "       [ 60,  83, 102,  42,  91,  86, 248,  35, 158,  97,  94, 115,  28,\n",
       "         75, 207,  89]], dtype=uint8)"
      ]
     },
     "execution_count": 15,
     "metadata": {},
     "output_type": "execute_result"
    }
   ],
   "source": [
    "arr1"
   ]
  },
  {
   "cell_type": "code",
   "execution_count": 16,
   "id": "01d16269-340e-49c5-818d-31b092279eca",
   "metadata": {},
   "outputs": [
    {
     "name": "stdout",
     "output_type": "stream",
     "text": [
      "tes\n"
     ]
    }
   ],
   "source": [
    "print('tes')"
   ]
  }
 ],
 "metadata": {
  "kernelspec": {
   "display_name": "Python 3 (ipykernel)",
   "language": "python",
   "name": "python3"
  },
  "language_info": {
   "codemirror_mode": {
    "name": "ipython",
    "version": 3
   },
   "file_extension": ".py",
   "mimetype": "text/x-python",
   "name": "python",
   "nbconvert_exporter": "python",
   "pygments_lexer": "ipython3",
   "version": "3.12.2"
  }
 },
 "nbformat": 4,
 "nbformat_minor": 5
}
