{
 "cells": [
  {
   "cell_type": "code",
   "execution_count": 2,
   "id": "0c5c45aa-6252-4695-81cb-bc3413baf61c",
   "metadata": {},
   "outputs": [],
   "source": [
    "import numpy as np # numeric punya python\n",
    "import matplotlib.pyplot as plt # library visualisasi "
   ]
  },
  {
   "cell_type": "code",
   "execution_count": 3,
   "id": "726d7b3d-7050-4a2c-800f-f1f26d565967",
   "metadata": {},
   "outputs": [
    {
     "name": "stdout",
     "output_type": "stream",
     "text": [
      "[  0   1   2   3   4   5   6   7   8   9  10  11  12  13  14  15  16  17\n",
      "  18  19  20  21  22  23  24  25  26  27  28  29  30  31  32  33  34  35\n",
      "  36  37  38  39  40  41  42  43  44  45  46  47  48  49  50  51  52  53\n",
      "  54  55  56  57  58  59  60  61  62  63  64  65  66  67  68  69  70  71\n",
      "  72  73  74  75  76  77  78  79  80  81  82  83  84  85  86  87  88  89\n",
      "  90  91  92  93  94  95  96  97  98  99 100 101 102 103 104 105 106 107\n",
      " 108 109 110 111 112 113 114 115 116 117 118 119 120 121 122 123 124 125\n",
      " 126 127 128 129 130 131 132 133 134 135 136 137 138 139 140 141 142 143\n",
      " 144 145 146 147 148 149 150 151 152 153 154 155 156 157 158 159 160 161\n",
      " 162 163 164 165 166 167 168 169 170 171 172 173 174 175 176 177 178 179\n",
      " 180 181 182 183 184 185 186 187 188 189 190 191 192 193 194 195 196 197\n",
      " 198 199 200 201 202 203 204 205 206 207 208 209 210 211 212 213 214 215\n",
      " 216 217 218 219 220 221 222 223 224 225 226 227 228 229 230 231 232 233\n",
      " 234 235 236 237 238 239 240 241 242 243 244 245 246 247 248 249 250 251\n",
      " 252 253 254 255]\n"
     ]
    }
   ],
   "source": [
    "# array di range (0,255) . 16 x 16\n",
    "arr = np.arange(0,256,1)\n",
    "print(arr)"
   ]
  },
  {
   "cell_type": "code",
   "execution_count": 4,
   "id": "9e4bdf14-eaac-4b15-b7f0-56a90bf0a25b",
   "metadata": {},
   "outputs": [
    {
     "name": "stdout",
     "output_type": "stream",
     "text": [
      "[[  0   1   2   3   4   5   6   7   8   9  10  11  12  13  14  15]\n",
      " [ 16  17  18  19  20  21  22  23  24  25  26  27  28  29  30  31]\n",
      " [ 32  33  34  35  36  37  38  39  40  41  42  43  44  45  46  47]\n",
      " [ 48  49  50  51  52  53  54  55  56  57  58  59  60  61  62  63]\n",
      " [ 64  65  66  67  68  69  70  71  72  73  74  75  76  77  78  79]\n",
      " [ 80  81  82  83  84  85  86  87  88  89  90  91  92  93  94  95]\n",
      " [ 96  97  98  99 100 101 102 103 104 105 106 107 108 109 110 111]\n",
      " [112 113 114 115 116 117 118 119 120 121 122 123 124 125 126 127]\n",
      " [128 129 130 131 132 133 134 135 136 137 138 139 140 141 142 143]\n",
      " [144 145 146 147 148 149 150 151 152 153 154 155 156 157 158 159]\n",
      " [160 161 162 163 164 165 166 167 168 169 170 171 172 173 174 175]\n",
      " [176 177 178 179 180 181 182 183 184 185 186 187 188 189 190 191]\n",
      " [192 193 194 195 196 197 198 199 200 201 202 203 204 205 206 207]\n",
      " [208 209 210 211 212 213 214 215 216 217 218 219 220 221 222 223]\n",
      " [224 225 226 227 228 229 230 231 232 233 234 235 236 237 238 239]\n",
      " [240 241 242 243 244 245 246 247 248 249 250 251 252 253 254 255]]\n"
     ]
    }
   ],
   "source": [
    "arr = arr.reshape((16,16))\n",
    "print(arr)"
   ]
  },
  {
   "cell_type": "code",
   "execution_count": 6,
   "id": "742fcf00-493e-4ea6-baf0-906723c684f4",
   "metadata": {},
   "outputs": [],
   "source": [
    "arr_8bit = arr.astype(np.uint8)"
   ]
  },
  {
   "cell_type": "code",
   "execution_count": 8,
   "id": "8526bdd3-c15f-4bc1-b353-ebcb4d7b1f83",
   "metadata": {},
   "outputs": [
    {
     "data": {
      "image/png": "[encoded data removed]",
      "text/plain": [
       "<Figure size 640x480 with 1 Axes>"
      ]
     },
     "metadata": {},
     "output_type": "display_data"
    }
   ],
   "source": [
    "plt.imshow(arr_8bit,cmap='gray')\n",
    "plt.axis('off')\n",
    "plt.show()"
   ]
  },
  {
   "cell_type": "code",
   "execution_count": 9,
   "id": "1e94eb94-ae3a-4b5c-9e3b-f708f74d963e",
   "metadata": {},
   "outputs": [
    {
     "data": {
      "text/plain": [
       "(-0.5, 15.5, 15.5, -0.5)"
      ]
     },
     "execution_count": 9,
     "metadata": {},
     "output_type": "execute_result"
    },
    {
     "data": {
      "image/png": "[encoded data removed]",
      "text/plain": [
       "<Figure size 640x480 with 1 Axes>"
      ]
     },
     "metadata": {},
     "output_type": "display_data"
    }
   ],
   "source": [
    "# random matrix (16 x16)\n",
    "arr1 = np.random.randint(low=0,high=255,size=(16,16),dtype=np.uint8)\n",
    "plt.imshow(arr1,cmap='gray')\n",
    "plt.axis('off')"
   ]
  },
  {
   "cell_type": "code",
   "execution_count": 10,
   "id": "7d94a26b-b218-40f8-bb46-221aa954b80d",
   "metadata": {},
   "outputs": [
    {
     "data": {
      "text/plain": [
       "array([[186, 183, 220,  87, 191,  69,   7,  31, 188,  28, 174, 220, 224,\n",
       "        187,  10,  97],\n",
       "       [ 37,  64,  73,  70, 178, 194,   8, 170,  59, 110,   6, 178,  63,\n",
       "        125, 169, 239],\n",
       "       [241,  32, 163,  34, 121, 108, 198,  58, 133, 219,  63, 196,  32,\n",
       "         68,  89,  93],\n",
       "       [141, 203, 173,  63, 110,  32,  17, 242, 134,  49,  68,  72, 239,\n",
       "         16, 203, 139],\n",
       "       [ 77, 165, 110,  96,  96,  43, 232, 129,  84, 166,  76, 129, 118,\n",
       "         49,  37, 219],\n",
       "       [240, 206, 113, 110,  86,  14,  49, 183, 170,  81,   4, 251, 223,\n",
       "         99,  53,  25],\n",
       "       [132,  48, 152, 220, 247, 198, 119, 165, 187, 130, 147, 138, 183,\n",
       "        243, 103, 249],\n",
       "       [ 90,  14, 111, 153, 248,  62, 198, 101,  38, 102, 108, 215, 166,\n",
       "          7, 253, 130],\n",
       "       [ 69,  91, 110, 159, 205, 156,  48,  57, 218, 159, 154, 148, 247,\n",
       "        101,  15,  66],\n",
       "       [ 55,  90,  29, 107,  34, 176, 191,  66,  52,  78, 195, 241, 104,\n",
       "         25,   8,  27],\n",
       "       [158, 229,  87, 191,  40, 206, 194, 161,   3, 120, 133, 183,  56,\n",
       "        132, 211,  76],\n",
       "       [246, 204, 121, 153,   1, 132, 153, 140,  34, 226, 199,  71, 103,\n",
       "        215, 147,   6],\n",
       "       [193,  20,  56, 209,  65,  69, 152, 209, 213, 128, 127, 203, 202,\n",
       "          8, 235,  33],\n",
       "       [232,   7, 162,  68, 229, 145, 222,  85,  93, 223,  41,  85, 158,\n",
       "        162, 126, 253],\n",
       "       [211,  15,  29, 140, 188, 197, 238, 104, 223,  65, 126, 221,  93,\n",
       "         38,  59,  11],\n",
       "       [ 69, 113,   7, 192, 228, 190,  77, 130,  46,  97, 117, 200, 222,\n",
       "        249,  53, 225]], dtype=uint8)"
      ]
     },
     "execution_count": 10,
     "metadata": {},
     "output_type": "execute_result"
    }
   ],
   "source": [
    "arr1"
   ]
  },
  {
   "cell_type": "code",
   "execution_count": null,
   "id": "01d16269-340e-49c5-818d-31b092279eca",
   "metadata": {},
   "outputs": [],
   "source": []
  }
 ],
 "metadata": {
  "kernelspec": {
   "display_name": "Python 3 (ipykernel)",
   "language": "python",
   "name": "python3"
  },
  "language_info": {
   "codemirror_mode": {
    "name": "ipython",
    "version": 3
   },
   "file_extension": ".py",
   "mimetype": "text/x-python",
   "name": "python",
   "nbconvert_exporter": "python",
   "pygments_lexer": "ipython3",
   "version": "3.12.2"
  }
 },
 "nbformat": 4,
 "nbformat_minor": 5
}
