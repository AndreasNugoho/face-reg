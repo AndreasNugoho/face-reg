{
 "cells": [
  {
   "cell_type": "markdown",
   "id": "30a02968-2bdc-4859-848e-68bf85eb600e",
   "metadata": {},
   "source": [
    "# Rezise"
   ]
  },
  {
   "cell_type": "code",
   "execution_count": 1,
   "id": "b0db1f38-62db-435e-997b-7f106fe5c18a",
   "metadata": {},
   "outputs": [],
   "source": [
    "import numpy as np\n",
    "import cv2 "
   ]
  },
  {
   "cell_type": "code",
   "execution_count": 3,
   "id": "7e2bdfdd",
   "metadata": {},
   "outputs": [
    {
     "name": "stdout",
     "output_type": "stream",
     "text": [
      "(480, 640, 3)\n"
     ]
    },
    {
     "name": "stderr",
     "output_type": "stream",
     "text": [
      "2024-03-13 06:48:18.861 Python[29788:424292] WARNING: Secure coding is not enabled for restorable state! Enable secure coding by implementing NSApplicationDelegate.applicationSupportsSecureRestorableState: and returning YES.\n"
     ]
    }
   ],
   "source": [
    "#loading image\n",
    "img = cv2.imread('./data/flying_bird.jpg')\n",
    "\n",
    "print(img.shape)\n",
    "cv2.imshow('original',img)\n",
    "cv2.waitKey(0)   \n",
    "cv2.destroyAllWindows() "
   ]
  },
  {
   "cell_type": "markdown",
   "id": "58c279fb",
   "metadata": {},
   "source": [
    "# Task\n",
    "<ul>\n",
    "    <li> Shink image </li>\n",
    "    <li> Enlarge image </li>\n",
    "</ul>"
   ]
  },
  {
   "cell_type": "code",
   "execution_count": 10,
   "id": "e07bb8b7",
   "metadata": {},
   "outputs": [],
   "source": [
    "# shinking image\n",
    "# col, height = rows\n",
    "img_shink = cv2.resize(img,dsize=(320,240),interpolation=cv2.INTER_AREA)\n",
    "\n",
    "# enlarge\n",
    "# cv2.INTER_CUBIC\n",
    "img_zoom = cv2.resize(img,dsize=(1280,960),interpolation=cv2.INTER_CUBIC)"
   ]
  },
  {
   "cell_type": "code",
   "execution_count": 11,
   "id": "47c6c5e0",
   "metadata": {},
   "outputs": [
    {
     "data": {
      "text/plain": [
       "((240, 320, 3), (960, 1280, 3))"
      ]
     },
     "execution_count": 11,
     "metadata": {},
     "output_type": "execute_result"
    }
   ],
   "source": [
    "img_shink.shape, img_zoom.shape"
   ]
  },
  {
   "cell_type": "code",
   "execution_count": 13,
   "id": "f28933ce",
   "metadata": {},
   "outputs": [],
   "source": [
    "cv2.imshow('original',img)\n",
    "cv2.imshow('Shink',img_shink)\n",
    "cv2.imshow('Zoom',img_zoom)\n",
    "cv2.waitKey(0)\n",
    "cv2.destroyAllWindows()"
   ]
  },
  {
   "cell_type": "code",
   "execution_count": null,
   "id": "1501cba1",
   "metadata": {},
   "outputs": [],
   "source": []
  }
 ],
 "metadata": {
  "kernelspec": {
   "display_name": "Python 3 (ipykernel)",
   "language": "python",
   "name": "python3"
  },
  "language_info": {
   "codemirror_mode": {
    "name": "ipython",
    "version": 3
   },
   "file_extension": ".py",
   "mimetype": "text/x-python",
   "name": "python",
   "nbconvert_exporter": "python",
   "pygments_lexer": "ipython3",
   "version": "3.12.2"
  }
 },
 "nbformat": 4,
 "nbformat_minor": 5
}
