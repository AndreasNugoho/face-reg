{
 "cells": [
  {
   "cell_type": "code",
   "execution_count": 27,
   "id": "9ec6206c-f88a-42a5-9e79-925202ccd41a",
   "metadata": {},
   "outputs": [],
   "source": [
    "import numpy as np\n",
    "import cv2\n"
   ]
  },
  {
   "cell_type": "code",
   "execution_count": 28,
   "id": "cbc8db5d",
   "metadata": {},
   "outputs": [],
   "source": [
    "img = cv2.imread('./data/friend_lagi.jpeg')\n",
    "\n",
    "cv2.imshow('image',img)\n",
    "cv2.waitKey()\n",
    "cv2.destroyAllWindows()"
   ]
  },
  {
   "cell_type": "code",
   "execution_count": 29,
   "id": "2045f8a8",
   "metadata": {},
   "outputs": [],
   "source": [
    "# load cascade \n",
    "haar = cv2.CascadeClassifier('./data/haarcascade_frontalface_default.xml')"
   ]
  },
  {
   "cell_type": "code",
   "execution_count": 33,
   "id": "cccd2890",
   "metadata": {},
   "outputs": [],
   "source": [
    "image = img.copy()\n",
    "# satu = convert gambar ke grayscale\n",
    "gray = cv2.cvtColor(img,cv2.COLOR_BGR2GRAY)\n",
    "# dua = menerapkan grayscale ke cascade classifier\n",
    "face_rect = haar.detectMultiScale(gray,1.3,5)\n",
    "# tiga = gambar box untuk wajah\n",
    "for x,y,w,h in face_rect:\n",
    "    cv2.rectangle(image,(x,y),(x+w,y+h),(0,255,0),2)\n",
    "\n",
    "cv2.imshow('detected faces',image)\n",
    "cv2.waitKey()\n",
    "cv2.destroyAllWindows()"
   ]
  },
  {
   "cell_type": "code",
   "execution_count": 34,
   "id": "a535fada",
   "metadata": {},
   "outputs": [
    {
     "name": "stdout",
     "output_type": "stream",
     "text": [
      "[[ 85  70  62  62]\n",
      " [168  59  60  60]\n",
      " [265  60  62  62]]\n"
     ]
    }
   ],
   "source": [
    "print(face_rect)"
   ]
  },
  {
   "cell_type": "markdown",
   "id": "ae3036a8",
   "metadata": {},
   "source": [
    "# Real time Face Detection using OpenCV"
   ]
  },
  {
   "cell_type": "code",
   "execution_count": 40,
   "id": "d544acb3",
   "metadata": {},
   "outputs": [],
   "source": [
    "cap = cv2.VideoCapture('./data/video.mp4')\n",
    "\n",
    "while True:\n",
    "    ret, frame = cap.read()\n",
    "    if ret == False:\n",
    "        break\n",
    "    \n",
    "    image = frame.copy()\n",
    "    \n",
    "    # satu = convert gambar ke grayscale\n",
    "    gray = cv2.cvtColor(image,cv2.COLOR_BGR2GRAY)\n",
    "    # dua = menerapkan grayscale ke cascade classifier\n",
    "    face_rect = haar.detectMultiScale(gray,1.3,5)\n",
    "    for x,y,w,h in face_rect:\n",
    "        cv2.rectangle(image,(x,y),(x+w,y+h),(0,255,0),2)\n",
    "        \n",
    "    cv2.imshow('face detection',image)\n",
    "\n",
    "    if cv2.waitKey(1) == 27:\n",
    "        break\n",
    "\n",
    "cap.release()\n",
    "cv2.destroyAllWindows()"
   ]
  }
 ],
 "metadata": {
  "kernelspec": {
   "display_name": "Python 3 (ipykernel)",
   "language": "python",
   "name": "python3"
  },
  "language_info": {
   "codemirror_mode": {
    "name": "ipython",
    "version": 3
   },
   "file_extension": ".py",
   "mimetype": "text/x-python",
   "name": "python",
   "nbconvert_exporter": "python",
   "pygments_lexer": "ipython3",
   "version": "3.12.2"
  }
 },
 "nbformat": 4,
 "nbformat_minor": 5
}
