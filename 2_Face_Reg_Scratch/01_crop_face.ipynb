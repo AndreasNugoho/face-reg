{
 "cells": [
  {
   "cell_type": "code",
   "execution_count": 1,
   "id": "d8b42e11-5695-4e78-a8c6-6a6c2529b278",
   "metadata": {},
   "outputs": [],
   "source": [
    "import numpy as np\n",
    "import cv2\n",
    "from glob import glob\n",
    "import matplotlib.pyplot as plt"
   ]
  },
  {
   "cell_type": "code",
   "execution_count": 2,
   "id": "a19b9621-a0e1-4185-98ad-9644f9495c1d",
   "metadata": {},
   "outputs": [],
   "source": [
    "#data wanita\n",
    "fpath = glob('./data/female/*.jpg')\n",
    "#data pria\n",
    "mpath = glob('./data/male/*.jpg')"
   ]
  },
  {
   "cell_type": "code",
   "execution_count": 7,
   "id": "9b4e4764-860a-4632-9373-a45ae9927645",
   "metadata": {},
   "outputs": [
    {
     "name": "stdout",
     "output_type": "stream",
     "text": [
      "data wanita = 4762\n",
      "data pria = 5399\n"
     ]
    }
   ],
   "source": [
    "print('data wanita =',len(fpath))\n",
    "print('data pria =',len(mpath))"
   ]
  },
  {
   "cell_type": "code",
   "execution_count": 8,
   "id": "b238e714-9a24-428c-8f14-aff918ed8d1c",
   "metadata": {},
   "outputs": [],
   "source": [
    "### step 1 Baca gambar dan convert to RGB\n",
    "img = cv2. imread(fpath[0])\n",
    "\n",
    "\n",
    "### step 2 Cascade Classifier\n",
    "\n",
    "### step 3 Crop Face\n",
    "\n",
    "### step 4 Save Image"
   ]
  },
  {
   "cell_type": "code",
   "execution_count": null,
   "id": "31572b4e-44fb-4560-8401-791e0d486d41",
   "metadata": {},
   "outputs": [],
   "source": []
  }
 ],
 "metadata": {
  "kernelspec": {
   "display_name": "Python 3 (ipykernel)",
   "language": "python",
   "name": "python3"
  },
  "language_info": {
   "codemirror_mode": {
    "name": "ipython",
    "version": 3
   },
   "file_extension": ".py",
   "mimetype": "text/x-python",
   "name": "python",
   "nbconvert_exporter": "python",
   "pygments_lexer": "ipython3",
   "version": "3.12.2"
  }
 },
 "nbformat": 4,
 "nbformat_minor": 5
}
